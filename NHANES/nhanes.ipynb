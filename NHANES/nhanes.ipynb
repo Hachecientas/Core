{
 "cells": [
  {
   "cell_type": "code",
   "execution_count": 1,
   "metadata": {},
   "outputs": [],
   "source": [
    "import pandas as pd\n",
    "import numpy  as np\n",
    "import seaborn as sns\n",
    "import scipy.stats as stats\n",
    "import matplotlib.pyplot as plt"
   ]
  },
  {
   "cell_type": "code",
   "execution_count": 2,
   "metadata": {},
   "outputs": [
    {
     "data": {
      "text/html": [
       "<div>\n",
       "<style scoped>\n",
       "    .dataframe tbody tr th:only-of-type {\n",
       "        vertical-align: middle;\n",
       "    }\n",
       "\n",
       "    .dataframe tbody tr th {\n",
       "        vertical-align: top;\n",
       "    }\n",
       "\n",
       "    .dataframe thead th {\n",
       "        text-align: right;\n",
       "    }\n",
       "</style>\n",
       "<table border=\"1\" class=\"dataframe\">\n",
       "  <thead>\n",
       "    <tr style=\"text-align: right;\">\n",
       "      <th></th>\n",
       "      <th>SEQN</th>\n",
       "      <th>BMAEXLEN</th>\n",
       "      <th>BMAEXSTS</th>\n",
       "      <th>BMAEXCMT</th>\n",
       "      <th>BMXWT</th>\n",
       "      <th>BMIWT</th>\n",
       "      <th>BMXRECUM</th>\n",
       "      <th>BMIRECUM</th>\n",
       "      <th>BMXHEAD</th>\n",
       "      <th>BMIHEAD</th>\n",
       "      <th>...</th>\n",
       "      <th>BMISUB</th>\n",
       "      <th>BMAAMP</th>\n",
       "      <th>BMAUREXT</th>\n",
       "      <th>BMAUPREL</th>\n",
       "      <th>BMAULEXT</th>\n",
       "      <th>BMAUPLEL</th>\n",
       "      <th>BMALOREX</th>\n",
       "      <th>BMALORKN</th>\n",
       "      <th>BMALLEXT</th>\n",
       "      <th>BMALLKNE</th>\n",
       "    </tr>\n",
       "  </thead>\n",
       "  <tbody>\n",
       "    <tr>\n",
       "      <th>0</th>\n",
       "      <td>1.0</td>\n",
       "      <td>289.0</td>\n",
       "      <td>1.0</td>\n",
       "      <td>NaN</td>\n",
       "      <td>12.5</td>\n",
       "      <td>3.0</td>\n",
       "      <td>93.2</td>\n",
       "      <td>NaN</td>\n",
       "      <td>NaN</td>\n",
       "      <td>NaN</td>\n",
       "      <td>...</td>\n",
       "      <td>NaN</td>\n",
       "      <td>2.0</td>\n",
       "      <td>NaN</td>\n",
       "      <td>NaN</td>\n",
       "      <td>NaN</td>\n",
       "      <td>NaN</td>\n",
       "      <td>NaN</td>\n",
       "      <td>NaN</td>\n",
       "      <td>NaN</td>\n",
       "      <td>NaN</td>\n",
       "    </tr>\n",
       "    <tr>\n",
       "      <th>1</th>\n",
       "      <td>2.0</td>\n",
       "      <td>376.0</td>\n",
       "      <td>1.0</td>\n",
       "      <td>NaN</td>\n",
       "      <td>75.4</td>\n",
       "      <td>NaN</td>\n",
       "      <td>NaN</td>\n",
       "      <td>NaN</td>\n",
       "      <td>NaN</td>\n",
       "      <td>NaN</td>\n",
       "      <td>...</td>\n",
       "      <td>NaN</td>\n",
       "      <td>2.0</td>\n",
       "      <td>NaN</td>\n",
       "      <td>NaN</td>\n",
       "      <td>NaN</td>\n",
       "      <td>NaN</td>\n",
       "      <td>NaN</td>\n",
       "      <td>NaN</td>\n",
       "      <td>NaN</td>\n",
       "      <td>NaN</td>\n",
       "    </tr>\n",
       "    <tr>\n",
       "      <th>2</th>\n",
       "      <td>3.0</td>\n",
       "      <td>199.0</td>\n",
       "      <td>1.0</td>\n",
       "      <td>NaN</td>\n",
       "      <td>32.9</td>\n",
       "      <td>NaN</td>\n",
       "      <td>NaN</td>\n",
       "      <td>NaN</td>\n",
       "      <td>NaN</td>\n",
       "      <td>NaN</td>\n",
       "      <td>...</td>\n",
       "      <td>NaN</td>\n",
       "      <td>2.0</td>\n",
       "      <td>NaN</td>\n",
       "      <td>NaN</td>\n",
       "      <td>NaN</td>\n",
       "      <td>NaN</td>\n",
       "      <td>NaN</td>\n",
       "      <td>NaN</td>\n",
       "      <td>NaN</td>\n",
       "      <td>NaN</td>\n",
       "    </tr>\n",
       "    <tr>\n",
       "      <th>3</th>\n",
       "      <td>4.0</td>\n",
       "      <td>170.0</td>\n",
       "      <td>1.0</td>\n",
       "      <td>NaN</td>\n",
       "      <td>13.3</td>\n",
       "      <td>NaN</td>\n",
       "      <td>87.1</td>\n",
       "      <td>NaN</td>\n",
       "      <td>NaN</td>\n",
       "      <td>NaN</td>\n",
       "      <td>...</td>\n",
       "      <td>NaN</td>\n",
       "      <td>2.0</td>\n",
       "      <td>NaN</td>\n",
       "      <td>NaN</td>\n",
       "      <td>NaN</td>\n",
       "      <td>NaN</td>\n",
       "      <td>NaN</td>\n",
       "      <td>NaN</td>\n",
       "      <td>NaN</td>\n",
       "      <td>NaN</td>\n",
       "    </tr>\n",
       "    <tr>\n",
       "      <th>4</th>\n",
       "      <td>5.0</td>\n",
       "      <td>277.0</td>\n",
       "      <td>1.0</td>\n",
       "      <td>NaN</td>\n",
       "      <td>92.5</td>\n",
       "      <td>NaN</td>\n",
       "      <td>NaN</td>\n",
       "      <td>NaN</td>\n",
       "      <td>NaN</td>\n",
       "      <td>NaN</td>\n",
       "      <td>...</td>\n",
       "      <td>NaN</td>\n",
       "      <td>2.0</td>\n",
       "      <td>NaN</td>\n",
       "      <td>NaN</td>\n",
       "      <td>NaN</td>\n",
       "      <td>NaN</td>\n",
       "      <td>NaN</td>\n",
       "      <td>NaN</td>\n",
       "      <td>NaN</td>\n",
       "      <td>NaN</td>\n",
       "    </tr>\n",
       "    <tr>\n",
       "      <th>...</th>\n",
       "      <td>...</td>\n",
       "      <td>...</td>\n",
       "      <td>...</td>\n",
       "      <td>...</td>\n",
       "      <td>...</td>\n",
       "      <td>...</td>\n",
       "      <td>...</td>\n",
       "      <td>...</td>\n",
       "      <td>...</td>\n",
       "      <td>...</td>\n",
       "      <td>...</td>\n",
       "      <td>...</td>\n",
       "      <td>...</td>\n",
       "      <td>...</td>\n",
       "      <td>...</td>\n",
       "      <td>...</td>\n",
       "      <td>...</td>\n",
       "      <td>...</td>\n",
       "      <td>...</td>\n",
       "      <td>...</td>\n",
       "      <td>...</td>\n",
       "    </tr>\n",
       "    <tr>\n",
       "      <th>9277</th>\n",
       "      <td>9960.0</td>\n",
       "      <td>285.0</td>\n",
       "      <td>1.0</td>\n",
       "      <td>NaN</td>\n",
       "      <td>66.4</td>\n",
       "      <td>NaN</td>\n",
       "      <td>NaN</td>\n",
       "      <td>NaN</td>\n",
       "      <td>NaN</td>\n",
       "      <td>NaN</td>\n",
       "      <td>...</td>\n",
       "      <td>NaN</td>\n",
       "      <td>2.0</td>\n",
       "      <td>NaN</td>\n",
       "      <td>NaN</td>\n",
       "      <td>NaN</td>\n",
       "      <td>NaN</td>\n",
       "      <td>NaN</td>\n",
       "      <td>NaN</td>\n",
       "      <td>NaN</td>\n",
       "      <td>NaN</td>\n",
       "    </tr>\n",
       "    <tr>\n",
       "      <th>9278</th>\n",
       "      <td>9961.0</td>\n",
       "      <td>191.0</td>\n",
       "      <td>1.0</td>\n",
       "      <td>NaN</td>\n",
       "      <td>83.1</td>\n",
       "      <td>NaN</td>\n",
       "      <td>NaN</td>\n",
       "      <td>NaN</td>\n",
       "      <td>NaN</td>\n",
       "      <td>NaN</td>\n",
       "      <td>...</td>\n",
       "      <td>NaN</td>\n",
       "      <td>2.0</td>\n",
       "      <td>NaN</td>\n",
       "      <td>NaN</td>\n",
       "      <td>NaN</td>\n",
       "      <td>NaN</td>\n",
       "      <td>NaN</td>\n",
       "      <td>NaN</td>\n",
       "      <td>NaN</td>\n",
       "      <td>NaN</td>\n",
       "    </tr>\n",
       "    <tr>\n",
       "      <th>9279</th>\n",
       "      <td>9962.0</td>\n",
       "      <td>254.0</td>\n",
       "      <td>1.0</td>\n",
       "      <td>NaN</td>\n",
       "      <td>18.5</td>\n",
       "      <td>3.0</td>\n",
       "      <td>NaN</td>\n",
       "      <td>NaN</td>\n",
       "      <td>NaN</td>\n",
       "      <td>NaN</td>\n",
       "      <td>...</td>\n",
       "      <td>NaN</td>\n",
       "      <td>2.0</td>\n",
       "      <td>NaN</td>\n",
       "      <td>NaN</td>\n",
       "      <td>NaN</td>\n",
       "      <td>NaN</td>\n",
       "      <td>NaN</td>\n",
       "      <td>NaN</td>\n",
       "      <td>NaN</td>\n",
       "      <td>NaN</td>\n",
       "    </tr>\n",
       "    <tr>\n",
       "      <th>9280</th>\n",
       "      <td>9964.0</td>\n",
       "      <td>452.0</td>\n",
       "      <td>1.0</td>\n",
       "      <td>NaN</td>\n",
       "      <td>32.8</td>\n",
       "      <td>NaN</td>\n",
       "      <td>NaN</td>\n",
       "      <td>NaN</td>\n",
       "      <td>NaN</td>\n",
       "      <td>NaN</td>\n",
       "      <td>...</td>\n",
       "      <td>NaN</td>\n",
       "      <td>2.0</td>\n",
       "      <td>NaN</td>\n",
       "      <td>NaN</td>\n",
       "      <td>NaN</td>\n",
       "      <td>NaN</td>\n",
       "      <td>NaN</td>\n",
       "      <td>NaN</td>\n",
       "      <td>NaN</td>\n",
       "      <td>NaN</td>\n",
       "    </tr>\n",
       "    <tr>\n",
       "      <th>9281</th>\n",
       "      <td>9965.0</td>\n",
       "      <td>305.0</td>\n",
       "      <td>1.0</td>\n",
       "      <td>NaN</td>\n",
       "      <td>57.9</td>\n",
       "      <td>NaN</td>\n",
       "      <td>NaN</td>\n",
       "      <td>NaN</td>\n",
       "      <td>NaN</td>\n",
       "      <td>NaN</td>\n",
       "      <td>...</td>\n",
       "      <td>NaN</td>\n",
       "      <td>2.0</td>\n",
       "      <td>NaN</td>\n",
       "      <td>NaN</td>\n",
       "      <td>NaN</td>\n",
       "      <td>NaN</td>\n",
       "      <td>NaN</td>\n",
       "      <td>NaN</td>\n",
       "      <td>NaN</td>\n",
       "      <td>NaN</td>\n",
       "    </tr>\n",
       "  </tbody>\n",
       "</table>\n",
       "<p>9282 rows × 38 columns</p>\n",
       "</div>"
      ],
      "text/plain": [
       "        SEQN  BMAEXLEN  BMAEXSTS  BMAEXCMT  BMXWT  BMIWT  BMXRECUM  BMIRECUM  \\\n",
       "0        1.0     289.0       1.0       NaN   12.5    3.0      93.2       NaN   \n",
       "1        2.0     376.0       1.0       NaN   75.4    NaN       NaN       NaN   \n",
       "2        3.0     199.0       1.0       NaN   32.9    NaN       NaN       NaN   \n",
       "3        4.0     170.0       1.0       NaN   13.3    NaN      87.1       NaN   \n",
       "4        5.0     277.0       1.0       NaN   92.5    NaN       NaN       NaN   \n",
       "...      ...       ...       ...       ...    ...    ...       ...       ...   \n",
       "9277  9960.0     285.0       1.0       NaN   66.4    NaN       NaN       NaN   \n",
       "9278  9961.0     191.0       1.0       NaN   83.1    NaN       NaN       NaN   \n",
       "9279  9962.0     254.0       1.0       NaN   18.5    3.0       NaN       NaN   \n",
       "9280  9964.0     452.0       1.0       NaN   32.8    NaN       NaN       NaN   \n",
       "9281  9965.0     305.0       1.0       NaN   57.9    NaN       NaN       NaN   \n",
       "\n",
       "      BMXHEAD  BMIHEAD  ...  BMISUB  BMAAMP  BMAUREXT  BMAUPREL  BMAULEXT  \\\n",
       "0         NaN      NaN  ...     NaN     2.0       NaN       NaN       NaN   \n",
       "1         NaN      NaN  ...     NaN     2.0       NaN       NaN       NaN   \n",
       "2         NaN      NaN  ...     NaN     2.0       NaN       NaN       NaN   \n",
       "3         NaN      NaN  ...     NaN     2.0       NaN       NaN       NaN   \n",
       "4         NaN      NaN  ...     NaN     2.0       NaN       NaN       NaN   \n",
       "...       ...      ...  ...     ...     ...       ...       ...       ...   \n",
       "9277      NaN      NaN  ...     NaN     2.0       NaN       NaN       NaN   \n",
       "9278      NaN      NaN  ...     NaN     2.0       NaN       NaN       NaN   \n",
       "9279      NaN      NaN  ...     NaN     2.0       NaN       NaN       NaN   \n",
       "9280      NaN      NaN  ...     NaN     2.0       NaN       NaN       NaN   \n",
       "9281      NaN      NaN  ...     NaN     2.0       NaN       NaN       NaN   \n",
       "\n",
       "      BMAUPLEL  BMALOREX  BMALORKN  BMALLEXT  BMALLKNE  \n",
       "0          NaN       NaN       NaN       NaN       NaN  \n",
       "1          NaN       NaN       NaN       NaN       NaN  \n",
       "2          NaN       NaN       NaN       NaN       NaN  \n",
       "3          NaN       NaN       NaN       NaN       NaN  \n",
       "4          NaN       NaN       NaN       NaN       NaN  \n",
       "...        ...       ...       ...       ...       ...  \n",
       "9277       NaN       NaN       NaN       NaN       NaN  \n",
       "9278       NaN       NaN       NaN       NaN       NaN  \n",
       "9279       NaN       NaN       NaN       NaN       NaN  \n",
       "9280       NaN       NaN       NaN       NaN       NaN  \n",
       "9281       NaN       NaN       NaN       NaN       NaN  \n",
       "\n",
       "[9282 rows x 38 columns]"
      ]
     },
     "execution_count": 2,
     "metadata": {},
     "output_type": "execute_result"
    }
   ],
   "source": [
    "pd.read_sas('BMX.XPT')\n",
    "#BMXWT: peso\n",
    "#BMXHT: altura"
   ]
  },
  {
   "cell_type": "code",
   "execution_count": 17,
   "metadata": {},
   "outputs": [],
   "source": [
    "bmx_99 = pd.read_sas('BMX.XPT')\n",
    "bmx_18 =  pd.read_sas('BMX_J.XPT')\n",
    "demo_99 = pd.read_sas('DEMO.XPT')\n",
    "demo_18 = pd.read_sas('DEMO_J.XPT')"
   ]
  },
  {
   "cell_type": "code",
   "execution_count": 15,
   "metadata": {},
   "outputs": [
    {
     "data": {
      "text/html": [
       "<div>\n",
       "<style scoped>\n",
       "    .dataframe tbody tr th:only-of-type {\n",
       "        vertical-align: middle;\n",
       "    }\n",
       "\n",
       "    .dataframe tbody tr th {\n",
       "        vertical-align: top;\n",
       "    }\n",
       "\n",
       "    .dataframe thead th {\n",
       "        text-align: right;\n",
       "    }\n",
       "</style>\n",
       "<table border=\"1\" class=\"dataframe\">\n",
       "  <thead>\n",
       "    <tr style=\"text-align: right;\">\n",
       "      <th></th>\n",
       "      <th>SEQN</th>\n",
       "      <th>SDDSRVYR</th>\n",
       "      <th>RIDSTATR</th>\n",
       "      <th>RIDEXMON</th>\n",
       "      <th>RIAGENDR</th>\n",
       "      <th>RIDAGEYR</th>\n",
       "      <th>RIDAGEMN</th>\n",
       "      <th>RIDAGEEX</th>\n",
       "      <th>RIDRETH1</th>\n",
       "      <th>RIDRETH2</th>\n",
       "      <th>...</th>\n",
       "      <th>WTIREP43</th>\n",
       "      <th>WTIREP44</th>\n",
       "      <th>WTIREP45</th>\n",
       "      <th>WTIREP46</th>\n",
       "      <th>WTIREP47</th>\n",
       "      <th>WTIREP48</th>\n",
       "      <th>WTIREP49</th>\n",
       "      <th>WTIREP50</th>\n",
       "      <th>WTIREP51</th>\n",
       "      <th>WTIREP52</th>\n",
       "    </tr>\n",
       "  </thead>\n",
       "  <tbody>\n",
       "    <tr>\n",
       "      <th>0</th>\n",
       "      <td>1.0</td>\n",
       "      <td>1.0</td>\n",
       "      <td>2.0</td>\n",
       "      <td>2.0</td>\n",
       "      <td>2.0</td>\n",
       "      <td>2.0</td>\n",
       "      <td>29.0</td>\n",
       "      <td>31.0</td>\n",
       "      <td>4.0</td>\n",
       "      <td>2.0</td>\n",
       "      <td>...</td>\n",
       "      <td>10094.017100</td>\n",
       "      <td>9912.461855</td>\n",
       "      <td>9727.078709</td>\n",
       "      <td>1.004152e+04</td>\n",
       "      <td>9.953956e+03</td>\n",
       "      <td>9857.381983</td>\n",
       "      <td>9865.152486</td>\n",
       "      <td>10327.992682</td>\n",
       "      <td>9809.165049</td>\n",
       "      <td>10323.315747</td>\n",
       "    </tr>\n",
       "    <tr>\n",
       "      <th>1</th>\n",
       "      <td>2.0</td>\n",
       "      <td>1.0</td>\n",
       "      <td>2.0</td>\n",
       "      <td>2.0</td>\n",
       "      <td>1.0</td>\n",
       "      <td>77.0</td>\n",
       "      <td>926.0</td>\n",
       "      <td>926.0</td>\n",
       "      <td>3.0</td>\n",
       "      <td>1.0</td>\n",
       "      <td>...</td>\n",
       "      <td>27186.728682</td>\n",
       "      <td>27324.345051</td>\n",
       "      <td>28099.663528</td>\n",
       "      <td>2.775707e+04</td>\n",
       "      <td>2.804929e+04</td>\n",
       "      <td>26716.602006</td>\n",
       "      <td>26877.704909</td>\n",
       "      <td>27268.025234</td>\n",
       "      <td>27406.383620</td>\n",
       "      <td>26984.812909</td>\n",
       "    </tr>\n",
       "    <tr>\n",
       "      <th>2</th>\n",
       "      <td>3.0</td>\n",
       "      <td>1.0</td>\n",
       "      <td>2.0</td>\n",
       "      <td>1.0</td>\n",
       "      <td>2.0</td>\n",
       "      <td>10.0</td>\n",
       "      <td>125.0</td>\n",
       "      <td>126.0</td>\n",
       "      <td>3.0</td>\n",
       "      <td>1.0</td>\n",
       "      <td>...</td>\n",
       "      <td>43993.193099</td>\n",
       "      <td>44075.386428</td>\n",
       "      <td>46642.563799</td>\n",
       "      <td>4.496768e+04</td>\n",
       "      <td>4.457248e+04</td>\n",
       "      <td>44087.945688</td>\n",
       "      <td>44831.370881</td>\n",
       "      <td>44480.987235</td>\n",
       "      <td>45389.112766</td>\n",
       "      <td>43781.905637</td>\n",
       "    </tr>\n",
       "    <tr>\n",
       "      <th>3</th>\n",
       "      <td>4.0</td>\n",
       "      <td>1.0</td>\n",
       "      <td>2.0</td>\n",
       "      <td>2.0</td>\n",
       "      <td>1.0</td>\n",
       "      <td>1.0</td>\n",
       "      <td>22.0</td>\n",
       "      <td>23.0</td>\n",
       "      <td>4.0</td>\n",
       "      <td>2.0</td>\n",
       "      <td>...</td>\n",
       "      <td>10702.307249</td>\n",
       "      <td>10531.444441</td>\n",
       "      <td>10346.119327</td>\n",
       "      <td>1.063606e+04</td>\n",
       "      <td>5.397605e-79</td>\n",
       "      <td>10533.108939</td>\n",
       "      <td>10654.749584</td>\n",
       "      <td>10851.024385</td>\n",
       "      <td>10564.981435</td>\n",
       "      <td>11012.529729</td>\n",
       "    </tr>\n",
       "    <tr>\n",
       "      <th>4</th>\n",
       "      <td>5.0</td>\n",
       "      <td>1.0</td>\n",
       "      <td>2.0</td>\n",
       "      <td>2.0</td>\n",
       "      <td>1.0</td>\n",
       "      <td>49.0</td>\n",
       "      <td>597.0</td>\n",
       "      <td>597.0</td>\n",
       "      <td>3.0</td>\n",
       "      <td>1.0</td>\n",
       "      <td>...</td>\n",
       "      <td>93164.782430</td>\n",
       "      <td>92119.608772</td>\n",
       "      <td>95388.490406</td>\n",
       "      <td>9.413138e+04</td>\n",
       "      <td>9.529781e+04</td>\n",
       "      <td>91325.082461</td>\n",
       "      <td>91640.586117</td>\n",
       "      <td>92817.926915</td>\n",
       "      <td>94282.855382</td>\n",
       "      <td>91993.251203</td>\n",
       "    </tr>\n",
       "    <tr>\n",
       "      <th>...</th>\n",
       "      <td>...</td>\n",
       "      <td>...</td>\n",
       "      <td>...</td>\n",
       "      <td>...</td>\n",
       "      <td>...</td>\n",
       "      <td>...</td>\n",
       "      <td>...</td>\n",
       "      <td>...</td>\n",
       "      <td>...</td>\n",
       "      <td>...</td>\n",
       "      <td>...</td>\n",
       "      <td>...</td>\n",
       "      <td>...</td>\n",
       "      <td>...</td>\n",
       "      <td>...</td>\n",
       "      <td>...</td>\n",
       "      <td>...</td>\n",
       "      <td>...</td>\n",
       "      <td>...</td>\n",
       "      <td>...</td>\n",
       "      <td>...</td>\n",
       "    </tr>\n",
       "    <tr>\n",
       "      <th>9960</th>\n",
       "      <td>9961.0</td>\n",
       "      <td>1.0</td>\n",
       "      <td>2.0</td>\n",
       "      <td>1.0</td>\n",
       "      <td>1.0</td>\n",
       "      <td>36.0</td>\n",
       "      <td>433.0</td>\n",
       "      <td>433.0</td>\n",
       "      <td>2.0</td>\n",
       "      <td>5.0</td>\n",
       "      <td>...</td>\n",
       "      <td>78521.268829</td>\n",
       "      <td>77640.374144</td>\n",
       "      <td>80395.457415</td>\n",
       "      <td>7.933594e+04</td>\n",
       "      <td>8.031903e+04</td>\n",
       "      <td>76970.730396</td>\n",
       "      <td>77236.643617</td>\n",
       "      <td>78228.931592</td>\n",
       "      <td>79463.604598</td>\n",
       "      <td>77533.877285</td>\n",
       "    </tr>\n",
       "    <tr>\n",
       "      <th>9961</th>\n",
       "      <td>9962.0</td>\n",
       "      <td>1.0</td>\n",
       "      <td>2.0</td>\n",
       "      <td>2.0</td>\n",
       "      <td>1.0</td>\n",
       "      <td>4.0</td>\n",
       "      <td>52.0</td>\n",
       "      <td>53.0</td>\n",
       "      <td>3.0</td>\n",
       "      <td>1.0</td>\n",
       "      <td>...</td>\n",
       "      <td>53227.692173</td>\n",
       "      <td>53197.410099</td>\n",
       "      <td>54856.752764</td>\n",
       "      <td>5.458881e+04</td>\n",
       "      <td>5.483115e+04</td>\n",
       "      <td>52951.795678</td>\n",
       "      <td>53521.432100</td>\n",
       "      <td>53389.143107</td>\n",
       "      <td>53644.722160</td>\n",
       "      <td>52789.914754</td>\n",
       "    </tr>\n",
       "    <tr>\n",
       "      <th>9962</th>\n",
       "      <td>9963.0</td>\n",
       "      <td>1.0</td>\n",
       "      <td>1.0</td>\n",
       "      <td>NaN</td>\n",
       "      <td>2.0</td>\n",
       "      <td>18.0</td>\n",
       "      <td>224.0</td>\n",
       "      <td>NaN</td>\n",
       "      <td>3.0</td>\n",
       "      <td>1.0</td>\n",
       "      <td>...</td>\n",
       "      <td>7166.616716</td>\n",
       "      <td>7180.006244</td>\n",
       "      <td>7598.206765</td>\n",
       "      <td>7.325364e+03</td>\n",
       "      <td>7.260985e+03</td>\n",
       "      <td>7182.052183</td>\n",
       "      <td>7303.158269</td>\n",
       "      <td>7246.079773</td>\n",
       "      <td>7394.016014</td>\n",
       "      <td>7132.197386</td>\n",
       "    </tr>\n",
       "    <tr>\n",
       "      <th>9963</th>\n",
       "      <td>9964.0</td>\n",
       "      <td>1.0</td>\n",
       "      <td>2.0</td>\n",
       "      <td>2.0</td>\n",
       "      <td>1.0</td>\n",
       "      <td>11.0</td>\n",
       "      <td>134.0</td>\n",
       "      <td>135.0</td>\n",
       "      <td>3.0</td>\n",
       "      <td>1.0</td>\n",
       "      <td>...</td>\n",
       "      <td>56335.476714</td>\n",
       "      <td>56206.546362</td>\n",
       "      <td>59905.704592</td>\n",
       "      <td>5.670687e+04</td>\n",
       "      <td>5.721664e+04</td>\n",
       "      <td>56277.419517</td>\n",
       "      <td>56642.543191</td>\n",
       "      <td>56543.284431</td>\n",
       "      <td>57867.337139</td>\n",
       "      <td>55776.565069</td>\n",
       "    </tr>\n",
       "    <tr>\n",
       "      <th>9964</th>\n",
       "      <td>9965.0</td>\n",
       "      <td>1.0</td>\n",
       "      <td>2.0</td>\n",
       "      <td>2.0</td>\n",
       "      <td>2.0</td>\n",
       "      <td>84.0</td>\n",
       "      <td>1014.0</td>\n",
       "      <td>1014.0</td>\n",
       "      <td>3.0</td>\n",
       "      <td>1.0</td>\n",
       "      <td>...</td>\n",
       "      <td>25034.826398</td>\n",
       "      <td>25310.490629</td>\n",
       "      <td>26185.126646</td>\n",
       "      <td>5.397605e-79</td>\n",
       "      <td>2.583766e+04</td>\n",
       "      <td>24791.090922</td>\n",
       "      <td>24852.331460</td>\n",
       "      <td>25084.429766</td>\n",
       "      <td>25339.715569</td>\n",
       "      <td>25054.193491</td>\n",
       "    </tr>\n",
       "  </tbody>\n",
       "</table>\n",
       "<p>9965 rows × 144 columns</p>\n",
       "</div>"
      ],
      "text/plain": [
       "        SEQN  SDDSRVYR  RIDSTATR  RIDEXMON  RIAGENDR  RIDAGEYR  RIDAGEMN  \\\n",
       "0        1.0       1.0       2.0       2.0       2.0       2.0      29.0   \n",
       "1        2.0       1.0       2.0       2.0       1.0      77.0     926.0   \n",
       "2        3.0       1.0       2.0       1.0       2.0      10.0     125.0   \n",
       "3        4.0       1.0       2.0       2.0       1.0       1.0      22.0   \n",
       "4        5.0       1.0       2.0       2.0       1.0      49.0     597.0   \n",
       "...      ...       ...       ...       ...       ...       ...       ...   \n",
       "9960  9961.0       1.0       2.0       1.0       1.0      36.0     433.0   \n",
       "9961  9962.0       1.0       2.0       2.0       1.0       4.0      52.0   \n",
       "9962  9963.0       1.0       1.0       NaN       2.0      18.0     224.0   \n",
       "9963  9964.0       1.0       2.0       2.0       1.0      11.0     134.0   \n",
       "9964  9965.0       1.0       2.0       2.0       2.0      84.0    1014.0   \n",
       "\n",
       "      RIDAGEEX  RIDRETH1  RIDRETH2  ...      WTIREP43      WTIREP44  \\\n",
       "0         31.0       4.0       2.0  ...  10094.017100   9912.461855   \n",
       "1        926.0       3.0       1.0  ...  27186.728682  27324.345051   \n",
       "2        126.0       3.0       1.0  ...  43993.193099  44075.386428   \n",
       "3         23.0       4.0       2.0  ...  10702.307249  10531.444441   \n",
       "4        597.0       3.0       1.0  ...  93164.782430  92119.608772   \n",
       "...        ...       ...       ...  ...           ...           ...   \n",
       "9960     433.0       2.0       5.0  ...  78521.268829  77640.374144   \n",
       "9961      53.0       3.0       1.0  ...  53227.692173  53197.410099   \n",
       "9962       NaN       3.0       1.0  ...   7166.616716   7180.006244   \n",
       "9963     135.0       3.0       1.0  ...  56335.476714  56206.546362   \n",
       "9964    1014.0       3.0       1.0  ...  25034.826398  25310.490629   \n",
       "\n",
       "          WTIREP45      WTIREP46      WTIREP47      WTIREP48      WTIREP49  \\\n",
       "0      9727.078709  1.004152e+04  9.953956e+03   9857.381983   9865.152486   \n",
       "1     28099.663528  2.775707e+04  2.804929e+04  26716.602006  26877.704909   \n",
       "2     46642.563799  4.496768e+04  4.457248e+04  44087.945688  44831.370881   \n",
       "3     10346.119327  1.063606e+04  5.397605e-79  10533.108939  10654.749584   \n",
       "4     95388.490406  9.413138e+04  9.529781e+04  91325.082461  91640.586117   \n",
       "...            ...           ...           ...           ...           ...   \n",
       "9960  80395.457415  7.933594e+04  8.031903e+04  76970.730396  77236.643617   \n",
       "9961  54856.752764  5.458881e+04  5.483115e+04  52951.795678  53521.432100   \n",
       "9962   7598.206765  7.325364e+03  7.260985e+03   7182.052183   7303.158269   \n",
       "9963  59905.704592  5.670687e+04  5.721664e+04  56277.419517  56642.543191   \n",
       "9964  26185.126646  5.397605e-79  2.583766e+04  24791.090922  24852.331460   \n",
       "\n",
       "          WTIREP50      WTIREP51      WTIREP52  \n",
       "0     10327.992682   9809.165049  10323.315747  \n",
       "1     27268.025234  27406.383620  26984.812909  \n",
       "2     44480.987235  45389.112766  43781.905637  \n",
       "3     10851.024385  10564.981435  11012.529729  \n",
       "4     92817.926915  94282.855382  91993.251203  \n",
       "...            ...           ...           ...  \n",
       "9960  78228.931592  79463.604598  77533.877285  \n",
       "9961  53389.143107  53644.722160  52789.914754  \n",
       "9962   7246.079773   7394.016014   7132.197386  \n",
       "9963  56543.284431  57867.337139  55776.565069  \n",
       "9964  25084.429766  25339.715569  25054.193491  \n",
       "\n",
       "[9965 rows x 144 columns]"
      ]
     },
     "execution_count": 15,
     "metadata": {},
     "output_type": "execute_result"
    }
   ],
   "source": [
    "demo_99"
   ]
  },
  {
   "cell_type": "code",
   "execution_count": 19,
   "metadata": {},
   "outputs": [],
   "source": [
    "cols = ['SEQN', 'BMXWT','BMXHT']\n",
    "bmx_99 = bmx_99[cols]\n",
    "bmx_18 = bmx_18[cols]\n",
    "demo_99 = demo_99[['SEQN','RIDAGEYR']]\n",
    "demo_18 = demo_18[['SEQN','RIDAGEYR']]"
   ]
  },
  {
   "cell_type": "code",
   "execution_count": 11,
   "metadata": {},
   "outputs": [
    {
     "name": "stdout",
     "output_type": "stream",
     "text": [
      "<class 'pandas.core.frame.DataFrame'>\n",
      "RangeIndex: 9282 entries, 0 to 9281\n",
      "Data columns (total 3 columns):\n",
      " #   Column  Non-Null Count  Dtype  \n",
      "---  ------  --------------  -----  \n",
      " 0   SEQN    9282 non-null   float64\n",
      " 1   BMXWT   9197 non-null   float64\n",
      " 2   BMXHT   8464 non-null   float64\n",
      "dtypes: float64(3)\n",
      "memory usage: 217.7 KB\n"
     ]
    }
   ],
   "source": [
    "bmx_99.info()"
   ]
  },
  {
   "cell_type": "code",
   "execution_count": 13,
   "metadata": {},
   "outputs": [
    {
     "data": {
      "text/html": [
       "<div>\n",
       "<style scoped>\n",
       "    .dataframe tbody tr th:only-of-type {\n",
       "        vertical-align: middle;\n",
       "    }\n",
       "\n",
       "    .dataframe tbody tr th {\n",
       "        vertical-align: top;\n",
       "    }\n",
       "\n",
       "    .dataframe thead th {\n",
       "        text-align: right;\n",
       "    }\n",
       "</style>\n",
       "<table border=\"1\" class=\"dataframe\">\n",
       "  <thead>\n",
       "    <tr style=\"text-align: right;\">\n",
       "      <th></th>\n",
       "      <th>SEQN</th>\n",
       "      <th>BMXWT</th>\n",
       "      <th>BMXHT</th>\n",
       "    </tr>\n",
       "  </thead>\n",
       "  <tbody>\n",
       "    <tr>\n",
       "      <th>count</th>\n",
       "      <td>9282.000000</td>\n",
       "      <td>9197.000000</td>\n",
       "      <td>8464.000000</td>\n",
       "    </tr>\n",
       "    <tr>\n",
       "      <th>mean</th>\n",
       "      <td>4992.751562</td>\n",
       "      <td>59.988192</td>\n",
       "      <td>156.249776</td>\n",
       "    </tr>\n",
       "    <tr>\n",
       "      <th>std</th>\n",
       "      <td>2869.721839</td>\n",
       "      <td>29.894565</td>\n",
       "      <td>22.389370</td>\n",
       "    </tr>\n",
       "    <tr>\n",
       "      <th>min</th>\n",
       "      <td>1.000000</td>\n",
       "      <td>3.100000</td>\n",
       "      <td>81.800000</td>\n",
       "    </tr>\n",
       "    <tr>\n",
       "      <th>25%</th>\n",
       "      <td>2517.250000</td>\n",
       "      <td>39.100000</td>\n",
       "      <td>151.000000</td>\n",
       "    </tr>\n",
       "    <tr>\n",
       "      <th>50%</th>\n",
       "      <td>4987.500000</td>\n",
       "      <td>63.000000</td>\n",
       "      <td>161.800000</td>\n",
       "    </tr>\n",
       "    <tr>\n",
       "      <th>75%</th>\n",
       "      <td>7482.750000</td>\n",
       "      <td>79.700000</td>\n",
       "      <td>170.600000</td>\n",
       "    </tr>\n",
       "    <tr>\n",
       "      <th>max</th>\n",
       "      <td>9965.000000</td>\n",
       "      <td>193.300000</td>\n",
       "      <td>201.300000</td>\n",
       "    </tr>\n",
       "  </tbody>\n",
       "</table>\n",
       "</div>"
      ],
      "text/plain": [
       "              SEQN        BMXWT        BMXHT\n",
       "count  9282.000000  9197.000000  8464.000000\n",
       "mean   4992.751562    59.988192   156.249776\n",
       "std    2869.721839    29.894565    22.389370\n",
       "min       1.000000     3.100000    81.800000\n",
       "25%    2517.250000    39.100000   151.000000\n",
       "50%    4987.500000    63.000000   161.800000\n",
       "75%    7482.750000    79.700000   170.600000\n",
       "max    9965.000000   193.300000   201.300000"
      ]
     },
     "execution_count": 13,
     "metadata": {},
     "output_type": "execute_result"
    }
   ],
   "source": [
    "bmx_99.describe(include = 'all')"
   ]
  },
  {
   "cell_type": "code",
   "execution_count": 20,
   "metadata": {},
   "outputs": [],
   "source": [
    "bmx_demo_99 = pd.merge(bmx_99,demo_99, on= 'SEQN', how= 'outer', indicator = True)\n",
    "bmx_demo_18 = pd.merge(bmx_18,demo_18, on= 'SEQN', how= 'outer', indicator = True)"
   ]
  },
  {
   "cell_type": "code",
   "execution_count": 22,
   "metadata": {},
   "outputs": [
    {
     "name": "stderr",
     "output_type": "stream",
     "text": [
      "C:\\Users\\helen\\AppData\\Local\\Temp\\ipykernel_31448\\829535790.py:1: FutureWarning: The default of observed=False is deprecated and will be changed to True in a future version of pandas. Pass observed=False to retain current behavior or observed=True to adopt the future default and silence this warning.\n",
      "  bmx_demo_99.groupby(['_merge']).count()\n"
     ]
    },
    {
     "data": {
      "text/html": [
       "<div>\n",
       "<style scoped>\n",
       "    .dataframe tbody tr th:only-of-type {\n",
       "        vertical-align: middle;\n",
       "    }\n",
       "\n",
       "    .dataframe tbody tr th {\n",
       "        vertical-align: top;\n",
       "    }\n",
       "\n",
       "    .dataframe thead th {\n",
       "        text-align: right;\n",
       "    }\n",
       "</style>\n",
       "<table border=\"1\" class=\"dataframe\">\n",
       "  <thead>\n",
       "    <tr style=\"text-align: right;\">\n",
       "      <th></th>\n",
       "      <th>SEQN</th>\n",
       "      <th>BMXWT</th>\n",
       "      <th>BMXHT</th>\n",
       "      <th>RIDAGEYR</th>\n",
       "    </tr>\n",
       "    <tr>\n",
       "      <th>_merge</th>\n",
       "      <th></th>\n",
       "      <th></th>\n",
       "      <th></th>\n",
       "      <th></th>\n",
       "    </tr>\n",
       "  </thead>\n",
       "  <tbody>\n",
       "    <tr>\n",
       "      <th>left_only</th>\n",
       "      <td>0</td>\n",
       "      <td>0</td>\n",
       "      <td>0</td>\n",
       "      <td>0</td>\n",
       "    </tr>\n",
       "    <tr>\n",
       "      <th>right_only</th>\n",
       "      <td>683</td>\n",
       "      <td>0</td>\n",
       "      <td>0</td>\n",
       "      <td>683</td>\n",
       "    </tr>\n",
       "    <tr>\n",
       "      <th>both</th>\n",
       "      <td>9282</td>\n",
       "      <td>9197</td>\n",
       "      <td>8464</td>\n",
       "      <td>9282</td>\n",
       "    </tr>\n",
       "  </tbody>\n",
       "</table>\n",
       "</div>"
      ],
      "text/plain": [
       "            SEQN  BMXWT  BMXHT  RIDAGEYR\n",
       "_merge                                  \n",
       "left_only      0      0      0         0\n",
       "right_only   683      0      0       683\n",
       "both        9282   9197   8464      9282"
      ]
     },
     "execution_count": 22,
     "metadata": {},
     "output_type": "execute_result"
    }
   ],
   "source": [
    "bmx_demo_99.groupby(['_merge']).count()"
   ]
  },
  {
   "cell_type": "code",
   "execution_count": 40,
   "metadata": {},
   "outputs": [
    {
     "name": "stderr",
     "output_type": "stream",
     "text": [
      "C:\\Users\\helen\\AppData\\Local\\Temp\\ipykernel_31448\\734402141.py:1: FutureWarning: The default of observed=False is deprecated and will be changed to True in a future version of pandas. Pass observed=False to retain current behavior or observed=True to adopt the future default and silence this warning.\n",
      "  bmx_demo_18.groupby(['_merge']).count()\n"
     ]
    },
    {
     "data": {
      "text/html": [
       "<div>\n",
       "<style scoped>\n",
       "    .dataframe tbody tr th:only-of-type {\n",
       "        vertical-align: middle;\n",
       "    }\n",
       "\n",
       "    .dataframe tbody tr th {\n",
       "        vertical-align: top;\n",
       "    }\n",
       "\n",
       "    .dataframe thead th {\n",
       "        text-align: right;\n",
       "    }\n",
       "</style>\n",
       "<table border=\"1\" class=\"dataframe\">\n",
       "  <thead>\n",
       "    <tr style=\"text-align: right;\">\n",
       "      <th></th>\n",
       "      <th>SEQN</th>\n",
       "      <th>BMXWT</th>\n",
       "      <th>BMXHT</th>\n",
       "      <th>RIDAGEYR</th>\n",
       "    </tr>\n",
       "    <tr>\n",
       "      <th>_merge</th>\n",
       "      <th></th>\n",
       "      <th></th>\n",
       "      <th></th>\n",
       "      <th></th>\n",
       "    </tr>\n",
       "  </thead>\n",
       "  <tbody>\n",
       "    <tr>\n",
       "      <th>left_only</th>\n",
       "      <td>0</td>\n",
       "      <td>0</td>\n",
       "      <td>0</td>\n",
       "      <td>0</td>\n",
       "    </tr>\n",
       "    <tr>\n",
       "      <th>right_only</th>\n",
       "      <td>550</td>\n",
       "      <td>0</td>\n",
       "      <td>0</td>\n",
       "      <td>550</td>\n",
       "    </tr>\n",
       "    <tr>\n",
       "      <th>both</th>\n",
       "      <td>8704</td>\n",
       "      <td>8580</td>\n",
       "      <td>8016</td>\n",
       "      <td>8704</td>\n",
       "    </tr>\n",
       "  </tbody>\n",
       "</table>\n",
       "</div>"
      ],
      "text/plain": [
       "            SEQN  BMXWT  BMXHT  RIDAGEYR\n",
       "_merge                                  \n",
       "left_only      0      0      0         0\n",
       "right_only   550      0      0       550\n",
       "both        8704   8580   8016      8704"
      ]
     },
     "execution_count": 40,
     "metadata": {},
     "output_type": "execute_result"
    }
   ],
   "source": [
    "bmx_demo_18.groupby(['_merge']).count()"
   ]
  },
  {
   "cell_type": "code",
   "execution_count": 23,
   "metadata": {},
   "outputs": [
    {
     "data": {
      "text/plain": [
       "9965"
      ]
     },
     "execution_count": 23,
     "metadata": {},
     "output_type": "execute_result"
    }
   ],
   "source": [
    "bmx_demo_99['SEQN'].nunique()"
   ]
  },
  {
   "cell_type": "code",
   "execution_count": 41,
   "metadata": {},
   "outputs": [],
   "source": [
    "bmx_demo_99 = (bmx_demo_99[bmx_demo_99['_merge'] == 'both'])\n",
    "bmx_demo_18 = (bmx_demo_18[bmx_demo_18['_merge'] == 'both'])"
   ]
  },
  {
   "cell_type": "code",
   "execution_count": 27,
   "metadata": {},
   "outputs": [
    {
     "data": {
      "text/plain": [
       "<Axes: xlabel='RIDAGEYR', ylabel='Count'>"
      ]
     },
     "execution_count": 27,
     "metadata": {},
     "output_type": "execute_result"
    },
    {
     "data": {
      "image/png": "[encoded data removed]",
      "text/plain": [
       "<Figure size 1000x500 with 1 Axes>"
      ]
     },
     "metadata": {},
     "output_type": "display_data"
    }
   ],
   "source": [
    "plt.figure(figsize=(10,5))\n",
    "\n",
    "sns.histplot(bmx_demo_99['RIDAGEYR'], bins = 20)"
   ]
  },
  {
   "cell_type": "code",
   "execution_count": 28,
   "metadata": {},
   "outputs": [
    {
     "data": {
      "text/plain": [
       "<Axes: xlabel='BMXWT', ylabel='Count'>"
      ]
     },
     "execution_count": 28,
     "metadata": {},
     "output_type": "execute_result"
    },
    {
     "data": {
      "image/png": "[encoded data removed]",
      "text/plain": [
       "<Figure size 1000x500 with 1 Axes>"
      ]
     },
     "metadata": {},
     "output_type": "display_data"
    }
   ],
   "source": [
    "plt.figure(figsize=(10,5))\n",
    "\n",
    "sns.histplot(bmx_demo_99['BMXWT'], bins = 20)"
   ]
  },
  {
   "cell_type": "code",
   "execution_count": 29,
   "metadata": {},
   "outputs": [
    {
     "data": {
      "text/plain": [
       "<Axes: xlabel='BMXHT', ylabel='Count'>"
      ]
     },
     "execution_count": 29,
     "metadata": {},
     "output_type": "execute_result"
    },
    {
     "data": {
      "image/png": "[encoded data removed]",
      "text/plain": [
       "<Figure size 1000x500 with 1 Axes>"
      ]
     },
     "metadata": {},
     "output_type": "display_data"
    }
   ],
   "source": [
    "plt.figure(figsize=(10,5))\n",
    "\n",
    "sns.histplot(bmx_demo_99['BMXHT'], bins = 20)"
   ]
  },
  {
   "cell_type": "code",
   "execution_count": 42,
   "metadata": {},
   "outputs": [],
   "source": [
    "bmx_demo_99 = bmx_demo_99[bmx_demo_99['RIDAGEYR'] > 20]\n",
    "bmx_demo_18 = bmx_demo_18[bmx_demo_18['RIDAGEYR'] > 20]\n",
    "#quitamos a los menores de 21 años"
   ]
  },
  {
   "cell_type": "code",
   "execution_count": 34,
   "metadata": {},
   "outputs": [
    {
     "data": {
      "text/plain": [
       "<Axes: xlabel='RIDAGEYR', ylabel='Count'>"
      ]
     },
     "execution_count": 34,
     "metadata": {},
     "output_type": "execute_result"
    },
    {
     "data": {
      "image/png": "[encoded data removed]",
      "text/plain": [
       "<Figure size 1000x500 with 1 Axes>"
      ]
     },
     "metadata": {},
     "output_type": "display_data"
    }
   ],
   "source": [
    "plt.figure(figsize=(10,5))\n",
    "\n",
    "sns.histplot(bmx_demo_99['RIDAGEYR'], bins = 20)"
   ]
  },
  {
   "cell_type": "code",
   "execution_count": 35,
   "metadata": {},
   "outputs": [
    {
     "data": {
      "text/plain": [
       "<Axes: xlabel='BMXWT', ylabel='Count'>"
      ]
     },
     "execution_count": 35,
     "metadata": {},
     "output_type": "execute_result"
    },
    {
     "data": {
      "image/png": "[encoded data removed]",
      "text/plain": [
       "<Figure size 1000x500 with 1 Axes>"
      ]
     },
     "metadata": {},
     "output_type": "display_data"
    }
   ],
   "source": [
    "plt.figure(figsize=(10,5))\n",
    "\n",
    "sns.histplot(bmx_demo_99['BMXWT'], bins = 20)"
   ]
  },
  {
   "cell_type": "code",
   "execution_count": 36,
   "metadata": {},
   "outputs": [
    {
     "data": {
      "text/plain": [
       "<Axes: xlabel='BMXHT', ylabel='Count'>"
      ]
     },
     "execution_count": 36,
     "metadata": {},
     "output_type": "execute_result"
    },
    {
     "data": {
      "image/png": "[encoded data removed]",
      "text/plain": [
       "<Figure size 1000x500 with 1 Axes>"
      ]
     },
     "metadata": {},
     "output_type": "display_data"
    }
   ],
   "source": [
    "plt.figure(figsize=(10,5))\n",
    "\n",
    "sns.histplot(bmx_demo_99['BMXHT'], bins = 20)"
   ]
  },
  {
   "cell_type": "code",
   "execution_count": 37,
   "metadata": {},
   "outputs": [
    {
     "data": {
      "text/plain": [
       "<seaborn.axisgrid.FacetGrid at 0x152a76017c0>"
      ]
     },
     "execution_count": 37,
     "metadata": {},
     "output_type": "execute_result"
    },
    {
     "data": {
      "image/png": "[encoded data removed]",
      "text/plain": [
       "<Figure size 500x500 with 1 Axes>"
      ]
     },
     "metadata": {},
     "output_type": "display_data"
    }
   ],
   "source": [
    "sns.displot(data=bmx_demo_99, x=\"RIDAGEYR\", kde=True)"
   ]
  },
  {
   "cell_type": "code",
   "execution_count": 38,
   "metadata": {},
   "outputs": [
    {
     "data": {
      "text/plain": [
       "<seaborn.axisgrid.FacetGrid at 0x152a76132f0>"
      ]
     },
     "execution_count": 38,
     "metadata": {},
     "output_type": "execute_result"
    },
    {
     "data": {
      "image/png": "[encoded data removed]",
      "text/plain": [
       "<Figure size 500x500 with 1 Axes>"
      ]
     },
     "metadata": {},
     "output_type": "display_data"
    }
   ],
   "source": [
    "sns.displot(data=bmx_demo_99, x=\"BMXHT\", kde=True)"
   ]
  },
  {
   "cell_type": "code",
   "execution_count": 46,
   "metadata": {},
   "outputs": [
    {
     "data": {
      "text/plain": [
       "<Axes: xlabel='BMXWT', ylabel='Count'>"
      ]
     },
     "execution_count": 46,
     "metadata": {},
     "output_type": "execute_result"
    },
    {
     "data": {
      "image/png": "[encoded data removed]",
      "text/plain": [
       "<Figure size 640x480 with 1 Axes>"
      ]
     },
     "metadata": {},
     "output_type": "display_data"
    }
   ],
   "source": [
    "sns.histplot(data=bmx_demo_18, x=\"BMXWT\", kde=True)\n",
    "sns.histplot(data=bmx_demo_99, x=\"BMXWT\", kde=True)"
   ]
  },
  {
   "cell_type": "code",
   "execution_count": null,
   "metadata": {},
   "outputs": [],
   "source": [
    "#hacer lo mismo con mujeres y hombres"
   ]
  },
  {
   "cell_type": "code",
   "execution_count": 47,
   "metadata": {},
   "outputs": [],
   "source": [
    "peso_99 = bmx_demo_99['BMXWT'].dropna().values\n",
    "peso_18 = bmx_demo_18['BMXWT'].dropna().values\n",
    "\n",
    "ttest = stats.ttest_ind(peso_99,peso_18, equal_var =  False)\n"
   ]
  },
  {
   "cell_type": "code",
   "execution_count": null,
   "metadata": {},
   "outputs": [],
   "source": [
    "ttest = stats.ttest_ind(peso_99,peso_99, equal_var =  False)\n",
    "'''las muestras son las mismas y el pvalor es alto por lo que se entiende que son iguales'''\n",
    "# no podemos rechazar que son iguales\n",
    "ttest = stats.ttest_ind(peso_99,peso_18, equal_var =  False)\n",
    "'''las muestras son distintas y el pvalor es menor a 0.01 por lo que se entiende que son diferentes'''\n",
    "#no podemos rechazar que son distintos"
   ]
  },
  {
   "cell_type": "code",
   "execution_count": 48,
   "metadata": {},
   "outputs": [
    {
     "data": {
      "text/plain": [
       "TtestResult(statistic=-9.233331217285851, pvalue=3.1924651753494236e-20, df=9415.696448539127)"
      ]
     },
     "execution_count": 48,
     "metadata": {},
     "output_type": "execute_result"
    }
   ],
   "source": [
    "ttest"
   ]
  },
  {
   "cell_type": "code",
   "execution_count": 49,
   "metadata": {},
   "outputs": [],
   "source": [
    "altura_99 = bmx_demo_99['BMXHT'].dropna().values\n",
    "altura_18 = bmx_demo_18['BMXHT'].dropna().values\n",
    "ttest_ht = stats.ttest_ind(altura_99,altura_18, equal_var = False)"
   ]
  },
  {
   "cell_type": "code",
   "execution_count": 50,
   "metadata": {},
   "outputs": [
    {
     "data": {
      "text/plain": [
       "TtestResult(statistic=0.862539999661242, pvalue=0.38841304682082367, df=9146.108700706256)"
      ]
     },
     "execution_count": 50,
     "metadata": {},
     "output_type": "execute_result"
    }
   ],
   "source": [
    "ttest_ht"
   ]
  },
  {
   "cell_type": "code",
   "execution_count": null,
   "metadata": {},
   "outputs": [],
   "source": []
  }
 ],
 "metadata": {
  "kernelspec": {
   "display_name": "Python 3",
   "language": "python",
   "name": "python3"
  },
  "language_info": {
   "codemirror_mode": {
    "name": "ipython",
    "version": 3
   },
   "file_extension": ".py",
   "mimetype": "text/x-python",
   "name": "python",
   "nbconvert_exporter": "python",
   "pygments_lexer": "ipython3",
   "version": "3.12.2"
  }
 },
 "nbformat": 4,
 "nbformat_minor": 2
}
